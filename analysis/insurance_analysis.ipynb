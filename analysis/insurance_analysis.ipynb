{
 "cells": [
  {
   "cell_type": "markdown",
   "metadata": {},
   "source": [
    "# **Insurance Analysis**\n",
    "M Ibrahim Al Muwahidan (almuwahidan@gmail.com)\n",
    "\n",
    "Pacmann.io Proba Student"
   ]
  },
  {
   "cell_type": "markdown",
   "metadata": {},
   "source": [
    "***"
   ]
  },
  {
   "cell_type": "code",
   "execution_count": 1,
   "metadata": {},
   "outputs": [],
   "source": [
    "# Initialize libraries\n",
    "import numpy as np\n",
    "import pandas as pd\n",
    "import seaborn as sns\n",
    "import random\n",
    "import gc"
   ]
  },
  {
   "cell_type": "code",
   "execution_count": null,
   "metadata": {},
   "outputs": [],
   "source": []
  },
  {
   "cell_type": "code",
   "execution_count": 2,
   "metadata": {},
   "outputs": [
    {
     "data": {
      "text/html": [
       "<div>\n",
       "<style scoped>\n",
       "    .dataframe tbody tr th:only-of-type {\n",
       "        vertical-align: middle;\n",
       "    }\n",
       "\n",
       "    .dataframe tbody tr th {\n",
       "        vertical-align: top;\n",
       "    }\n",
       "\n",
       "    .dataframe thead th {\n",
       "        text-align: right;\n",
       "    }\n",
       "</style>\n",
       "<table border=\"1\" class=\"dataframe\">\n",
       "  <thead>\n",
       "    <tr style=\"text-align: right;\">\n",
       "      <th></th>\n",
       "      <th>age</th>\n",
       "      <th>sex</th>\n",
       "      <th>bmi</th>\n",
       "      <th>children</th>\n",
       "      <th>smoker</th>\n",
       "      <th>region</th>\n",
       "      <th>charges</th>\n",
       "    </tr>\n",
       "  </thead>\n",
       "  <tbody>\n",
       "    <tr>\n",
       "      <th>0</th>\n",
       "      <td>19</td>\n",
       "      <td>female</td>\n",
       "      <td>27.900</td>\n",
       "      <td>0</td>\n",
       "      <td>yes</td>\n",
       "      <td>southwest</td>\n",
       "      <td>16884.92400</td>\n",
       "    </tr>\n",
       "    <tr>\n",
       "      <th>1</th>\n",
       "      <td>18</td>\n",
       "      <td>male</td>\n",
       "      <td>33.770</td>\n",
       "      <td>1</td>\n",
       "      <td>no</td>\n",
       "      <td>southeast</td>\n",
       "      <td>1725.55230</td>\n",
       "    </tr>\n",
       "    <tr>\n",
       "      <th>2</th>\n",
       "      <td>28</td>\n",
       "      <td>male</td>\n",
       "      <td>33.000</td>\n",
       "      <td>3</td>\n",
       "      <td>no</td>\n",
       "      <td>southeast</td>\n",
       "      <td>4449.46200</td>\n",
       "    </tr>\n",
       "    <tr>\n",
       "      <th>3</th>\n",
       "      <td>33</td>\n",
       "      <td>male</td>\n",
       "      <td>22.705</td>\n",
       "      <td>0</td>\n",
       "      <td>no</td>\n",
       "      <td>northwest</td>\n",
       "      <td>21984.47061</td>\n",
       "    </tr>\n",
       "    <tr>\n",
       "      <th>4</th>\n",
       "      <td>32</td>\n",
       "      <td>male</td>\n",
       "      <td>28.880</td>\n",
       "      <td>0</td>\n",
       "      <td>no</td>\n",
       "      <td>northwest</td>\n",
       "      <td>3866.85520</td>\n",
       "    </tr>\n",
       "  </tbody>\n",
       "</table>\n",
       "</div>"
      ],
      "text/plain": [
       "   age     sex     bmi  children smoker     region      charges\n",
       "0   19  female  27.900         0    yes  southwest  16884.92400\n",
       "1   18    male  33.770         1     no  southeast   1725.55230\n",
       "2   28    male  33.000         3     no  southeast   4449.46200\n",
       "3   33    male  22.705         0     no  northwest  21984.47061\n",
       "4   32    male  28.880         0     no  northwest   3866.85520"
      ]
     },
     "execution_count": 2,
     "metadata": {},
     "output_type": "execute_result"
    }
   ],
   "source": [
    "# Import dataset, we call them Policy Master Data\n",
    "policy_master_data = pd.read_csv(\"../dataset/insurance.csv\")\n",
    "policy_master_data.head()"
   ]
  },
  {
   "cell_type": "markdown",
   "metadata": {},
   "source": [
    "***"
   ]
  },
  {
   "cell_type": "markdown",
   "metadata": {},
   "source": [
    "## **1. Descriptive statistics analysis**"
   ]
  },
  {
   "cell_type": "markdown",
   "metadata": {},
   "source": [
    "#### **Describing this dataset**"
   ]
  },
  {
   "cell_type": "code",
   "execution_count": 3,
   "metadata": {},
   "outputs": [
    {
     "name": "stdout",
     "output_type": "stream",
     "text": [
      "1. Average age across sexes are similar for smokers (38.447 for male and 38.609 for female)\n",
      "2. Average charges are *not* the same between smokers and non-smokers (32050.232 for smokers and 8434.268 for non-smokers)\n",
      "3. For policyholders with BMI >25, average charges are *not* the same between smokers and non-smokers (35116.910 for smokers and 8629.590 for non-smokers)\n",
      "4. Average BMI are similar across sexes (30.943 for male and 30.378 for female)\n",
      "5. Average BMI are similar between smokers and non-smokers (30.708 for smokers and 30.652 for non-smokers)\n"
     ]
    }
   ],
   "source": [
    "# filter datasets\n",
    "smokers_data = policy_master_data.query(\"smoker == 'yes'\")\n",
    "nsmokers_data = policy_master_data.query(\"smoker == 'no'\")\n",
    "male_data = policy_master_data.query(\"sex == 'male'\")\n",
    "female_data = policy_master_data.query(\"sex == 'female'\")\n",
    "male_smokers_data = smokers_data.query(\"sex == 'male'\")\n",
    "female_smokers_data = smokers_data.query(\"sex == 'female'\")\n",
    "smokers_bmi_greaterthan25_data = smokers_data.query(\"bmi > 25\")\n",
    "nsmokers_bmi_greaterthan25_data = nsmokers_data.query(\"bmi > 25\")\n",
    "\n",
    "\n",
    "# calculate dataset attributes to get answers\n",
    "smokers_bmi_mean = smokers_data[\"bmi\"].mean()\n",
    "nsmokers_bmi_mean = nsmokers_data[\"bmi\"].mean()\n",
    "smokers_charges_mean = smokers_data[\"charges\"].mean()\n",
    "nsmokers_charges_mean = nsmokers_data[\"charges\"].mean()\n",
    "male_smokers_age_mean = male_smokers_data[\"age\"].mean()\n",
    "female_smokers_age_mean = female_smokers_data[\"age\"].mean()\n",
    "smokers_bmi_greaterthan25_charges_mean = smokers_bmi_greaterthan25_data[\"charges\"].mean()\n",
    "nsmokers_bmi_greaterthan25_charges_mean = nsmokers_bmi_greaterthan25_data[\"charges\"].mean()\n",
    "male_bmi_mean = male_data[\"bmi\"].mean()\n",
    "female_bmi_mean = female_data[\"bmi\"].mean()\n",
    "\n",
    "\n",
    "print(f\"1. Average age across sexes are similar for smokers ({male_smokers_age_mean:.3f} for male and {female_smokers_age_mean:.3f} for female)\")\n",
    "print(f\"2. Average charges are *not* the same between smokers and non-smokers ({smokers_charges_mean:.3f} for smokers and {nsmokers_charges_mean:.3f} for non-smokers)\")\n",
    "print(f\"3. For policyholders with BMI >25, average charges are *not* the same between smokers and non-smokers ({smokers_bmi_greaterthan25_charges_mean:.3f} for smokers and {nsmokers_bmi_greaterthan25_charges_mean:.3f} for non-smokers)\")\n",
    "print(f\"4. Average BMI are similar across sexes ({male_bmi_mean:.3f} for male and {female_bmi_mean:.3f} for female)\")\n",
    "print(f\"5. Average BMI are similar between smokers and non-smokers ({smokers_bmi_mean:.3f} for smokers and {nsmokers_bmi_mean:.3f} for non-smokers)\")"
   ]
  },
  {
   "cell_type": "markdown",
   "metadata": {},
   "source": [
    "***"
   ]
  },
  {
   "cell_type": "markdown",
   "metadata": {},
   "source": [
    "## **2. Categorical variable analysis (PMF)**"
   ]
  },
  {
   "cell_type": "markdown",
   "metadata": {},
   "source": [
    "#### **Which gender has the highest charge?**"
   ]
  },
  {
   "cell_type": "code",
   "execution_count": 4,
   "metadata": {},
   "outputs": [
    {
     "name": "stdout",
     "output_type": "stream",
     "text": [
      "1. Gender with the highest charges\n",
      "We use mean to calculate this\n",
      "\n",
      "Average charges, male: 13956.751\n",
      "Average charges, female: 12569.579\n",
      "\n",
      "We can conclude that male typically have higher charges than female\n"
     ]
    }
   ],
   "source": [
    "print(\"1. Gender with the highest charges\")\n",
    "print(\"We use mean to calculate this\\n\")\n",
    "\n",
    "male_charges_mean = male_data[\"charges\"].mean()\n",
    "female_charges_mean = female_data[\"charges\"].mean()\n",
    "\n",
    "print(f\"Average charges, male: {male_charges_mean:.3f}\")\n",
    "print(f\"Average charges, female: {female_charges_mean:.3f}\")\n",
    "\n",
    "print(\"\\nWe can conclude that male typically have higher charges than female\")\n",
    "\n",
    "## TODO: plot for sanity check"
   ]
  },
  {
   "cell_type": "markdown",
   "metadata": {},
   "source": [
    "#### **Distribution of charge probabilities for all policyholders**"
   ]
  },
  {
   "cell_type": "code",
   "execution_count": 5,
   "metadata": {},
   "outputs": [
    {
     "name": "stdout",
     "output_type": "stream",
     "text": [
      "For this, we're treating the RV as 'charges' in the discrete space; thus we're plotting a PMF\n"
     ]
    },
    {
     "data": {
      "image/png": "[encoded data removed]",
      "text/plain": [
       "<Figure size 640x480 with 1 Axes>"
      ]
     },
     "metadata": {},
     "output_type": "display_data"
    }
   ],
   "source": [
    "print(\"For this, we're treating the RV as 'charges' in the discrete space; thus we're plotting a PMF\")\n",
    "\n",
    "plot = sns.histplot(data=policy_master_data, x=\"charges\", stat=\"probability\")"
   ]
  },
  {
   "cell_type": "markdown",
   "metadata": {},
   "source": [
    "#### **Proportion of policyholder count per region -- are they the same?**"
   ]
  },
  {
   "cell_type": "code",
   "execution_count": 6,
   "metadata": {},
   "outputs": [
    {
     "name": "stdout",
     "output_type": "stream",
     "text": [
      "\n",
      "All regions are the same except 'southeast' region.\n"
     ]
    },
    {
     "data": {
      "text/plain": [
       "<AxesSubplot: xlabel='region', ylabel='Count'>"
      ]
     },
     "execution_count": 6,
     "metadata": {},
     "output_type": "execute_result"
    },
    {
     "data": {
      "image/png": "[encoded data removed]",
      "text/plain": [
       "<Figure size 640x480 with 1 Axes>"
      ]
     },
     "metadata": {},
     "output_type": "display_data"
    }
   ],
   "source": [
    "print(\"\\nAll regions are the same except 'southeast' region.\")\n",
    "\n",
    "sns.histplot(data=policy_master_data, x=\"region\", stat=\"count\")"
   ]
  },
  {
   "cell_type": "code",
   "execution_count": 7,
   "metadata": {},
   "outputs": [
    {
     "name": "stdout",
     "output_type": "stream",
     "text": [
      "4. peluang seseorang adalah perempuan jika diketahui dia perokok\n",
      "\n",
      "We're calculating it as = P(perempuan AND perokok) / P(perokok)\n",
      "P(perempuan | perokok) = 0.420\n"
     ]
    }
   ],
   "source": [
    "print(\"4. peluang seseorang adalah perempuan jika diketahui dia perokok\")\n",
    "print(\"\\nWe're calculating it as = P(perempuan AND perokok) / P(perokok)\")\n",
    "\n",
    "n_female_smokers = female_smokers_data.shape[0]\n",
    "n_smokers = smokers_data.shape[0]\n",
    "\n",
    "print(f\"P(perempuan | perokok) = {n_female_smokers/n_smokers:.3f}\")"
   ]
  },
  {
   "cell_type": "code",
   "execution_count": 8,
   "metadata": {},
   "outputs": [
    {
     "name": "stdout",
     "output_type": "stream",
     "text": [
      "5. distribusi tagihan per region\n"
     ]
    },
    {
     "data": {
      "image/png": "[encoded data removed]",
      "text/plain": [
       "<Figure size 640x480 with 1 Axes>"
      ]
     },
     "metadata": {},
     "output_type": "display_data"
    }
   ],
   "source": [
    "print(\"5. distribusi tagihan per region\")\n",
    "\n",
    "plot = sns.boxplot(data=policy_master_data, x=\"charges\", y=\"region\")"
   ]
  },
  {
   "cell_type": "code",
   "execution_count": 9,
   "metadata": {},
   "outputs": [
    {
     "data": {
      "text/plain": [
       "183"
      ]
     },
     "execution_count": 9,
     "metadata": {},
     "output_type": "execute_result"
    }
   ],
   "source": [
    "# deleting dataset variables we no longer use\n",
    "del smokers_data\n",
    "del nsmokers_data\n",
    "del male_data\n",
    "del female_data\n",
    "del male_smokers_data\n",
    "del female_smokers_data\n",
    "del smokers_bmi_greaterthan25_data\n",
    "del nsmokers_bmi_greaterthan25_data\n",
    "\n",
    "gc.collect()"
   ]
  },
  {
   "cell_type": "markdown",
   "metadata": {},
   "source": [
    "***"
   ]
  },
  {
   "cell_type": "markdown",
   "metadata": {},
   "source": [
    "## **3. Continuous variable analysis (CDF)**"
   ]
  },
  {
   "cell_type": "markdown",
   "metadata": {},
   "source": [
    "#### **Probability of charges based on BMI**"
   ]
  },
  {
   "cell_type": "code",
   "execution_count": 10,
   "metadata": {},
   "outputs": [
    {
     "name": "stdout",
     "output_type": "stream",
     "text": [
      "Joint and Marginal PDFs\n"
     ]
    },
    {
     "data": {
      "image/png": "[encoded data removed]",
      "text/plain": [
       "<Figure size 600x600 with 3 Axes>"
      ]
     },
     "metadata": {},
     "output_type": "display_data"
    }
   ],
   "source": [
    "print(\"Joint and Marginal PDFs\")\n",
    "plot = sns.jointplot(data=policy_master_data, x=\"bmi\", y=\"charges\", kind=\"kde\", fill=True)\n",
    "## <18.5 under\n",
    "## 18.5 - 24.9 normal\n",
    "## 25-29.9 over\n",
    "## >=30 obese"
   ]
  },
  {
   "cell_type": "markdown",
   "metadata": {},
   "source": [
    "#### **Probability of a smoker with >25 BMI will get charges >16700**"
   ]
  },
  {
   "cell_type": "code",
   "execution_count": 11,
   "metadata": {},
   "outputs": [],
   "source": [
    "# Prep the data\n",
    "smoker_data = policy_master_data.query(\"smoker == 'yes'\")\n",
    "highbmi_data = smoker_data.query(\"bmi > 25\")\n",
    "lowbmi_data = smoker_data.query(\"bmi <= 25\")\n",
    "\n",
    "highcharge_highbmi_data = highbmi_data.query(\"charges <= 16700\")"
   ]
  },
  {
   "cell_type": "code",
   "execution_count": 12,
   "metadata": {},
   "outputs": [
    {
     "name": "stdout",
     "output_type": "stream",
     "text": [
      "P(charges > 16700 | smoker AND BMI > 25) = 0.018\n"
     ]
    }
   ],
   "source": [
    "print(f\"P(charges > 16700 | smoker AND BMI > 25) = {highcharge_highbmi_data.shape[0] / highbmi_data.shape[0]:.3f}\")"
   ]
  },
  {
   "cell_type": "markdown",
   "metadata": {},
   "source": [
    "#### **Probability of a charge is >16700 given the person is a smoker**"
   ]
  },
  {
   "cell_type": "code",
   "execution_count": 13,
   "metadata": {},
   "outputs": [
    {
     "name": "stdout",
     "output_type": "stream",
     "text": [
      "P(charges >= 16700 | smoker) = 0.927\n"
     ]
    }
   ],
   "source": [
    "n_highcharge_smoker = smoker_data.query(\"charges > 16700\").shape[0]\n",
    "\n",
    "print(f\"P(charges >= 16700 | smoker) = {n_highcharge_smoker / smoker_data.shape[0]:.3f}\")"
   ]
  },
  {
   "cell_type": "markdown",
   "metadata": {},
   "source": [
    "#### **Which segment is likelier to have charges >16700 -- people with BMI < 25 or >25?**"
   ]
  },
  {
   "cell_type": "code",
   "execution_count": 18,
   "metadata": {},
   "outputs": [
    {
     "name": "stdout",
     "output_type": "stream",
     "text": [
      "P(charges > 16700 | BMI > 25) = 0.259\n",
      "P(charges > 16700 | BMI <= 25) = 0.206\n",
      "\n",
      "We can conclude that people with BMI >25 have more likelihood of incurring higher charges\n"
     ]
    }
   ],
   "source": [
    "highbmi_data = policy_master_data.query(\"bmi > 25\")\n",
    "lowbmi_data = policy_master_data.query(\"bmi <= 25\")\n",
    "n_highcharge_highbmi = highbmi_data.query(\"charges > 16700\").shape[0]\n",
    "n_highcharge_lowbmi = lowbmi_data.query(\"charges > 16700\").shape[0]\n",
    "\n",
    "print(f\"P(charges > 16700 | BMI > 25) = {n_highcharge_highbmi / highbmi_data.shape[0]:.3f}\")\n",
    "print(f\"P(charges > 16700 | BMI <= 25) = {n_highcharge_lowbmi / lowbmi_data.shape[0]:.3f}\")\n",
    "\n",
    "print(\"\\nWe can conclude that people with BMI >25 have more likelihood of incurring higher charges\")"
   ]
  },
  {
   "cell_type": "markdown",
   "metadata": {},
   "source": [
    "#### **Which segment is likelier to have charges >16700 -- smokers or non-smokers?**"
   ]
  },
  {
   "cell_type": "code",
   "execution_count": null,
   "metadata": {},
   "outputs": [
    {
     "name": "stdout",
     "output_type": "stream",
     "text": [
      "P(charges > 16700 | smoker) = 0.927\n",
      "P(charges > 16700 | non-smoker) = 0.075\n",
      "\n",
      "We can conclude that smokers have more likelihood of incurring higher charges\n"
     ]
    }
   ],
   "source": [
    "nonsmoker_data = policy_master_data.query(\"smoker == 'no'\")\n",
    "\n",
    "n_highcharge_smoker = smoker_data.query(\"charges > 16700\").shape[0]\n",
    "n_highcharge_nonsmoker = nonsmoker_data.query(\"charges > 16700\").shape[0]\n",
    "\n",
    "print(f\"P(charges > 16700 | smoker) = {n_highcharge_smoker / smoker_data.shape[0]:.3f}\")\n",
    "print(f\"P(charges > 16700 | non-smoker) = {n_highcharge_nonsmoker / nonsmoker_data.shape[0]:.3f}\")\n",
    "print(\"\\nWe can conclude that smokers have more likelihood of incurring higher charges\")"
   ]
  },
  {
   "cell_type": "code",
   "execution_count": null,
   "metadata": {},
   "outputs": [
    {
     "data": {
      "text/plain": [
       "18147"
      ]
     },
     "execution_count": 70,
     "metadata": {},
     "output_type": "execute_result"
    }
   ],
   "source": [
    "# deleting dataset variables we no longer use\n",
    "del smoker_data\n",
    "del nonsmoker_data\n",
    "del highbmi_data\n",
    "del lowbmi_data\n",
    "\n",
    "gc.collect()"
   ]
  },
  {
   "cell_type": "markdown",
   "metadata": {},
   "source": [
    "## **Correlation Analysis: factors resulting in high charges**"
   ]
  },
  {
   "cell_type": "markdown",
   "metadata": {},
   "source": [
    "#### **Factor 1: Region**"
   ]
  }
 ],
 "metadata": {
  "kernelspec": {
   "display_name": "Python 3.8.10 ('pacmann-insurance-analysis': venv)",
   "language": "python",
   "name": "python3"
  },
  "language_info": {
   "codemirror_mode": {
    "name": "ipython",
    "version": 3
   },
   "file_extension": ".py",
   "mimetype": "text/x-python",
   "name": "python",
   "nbconvert_exporter": "python",
   "pygments_lexer": "ipython3",
   "version": "3.8.10"
  },
  "orig_nbformat": 4,
  "vscode": {
   "interpreter": {
    "hash": "df780587a6dd4bd1e1cfe6863ed982514dfcd6f9c6e22792fbf49bf541ba8d19"
   }
  }
 },
 "nbformat": 4,
 "nbformat_minor": 2
}
